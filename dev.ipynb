{
 "cells": [
  {
   "cell_type": "code",
   "execution_count": 77,
   "metadata": {},
   "outputs": [],
   "source": [
    "# libraries\n",
    "import requests\n",
    "import base64\n",
    "import os\n",
    "import pandas as pd\n",
    "from dotenv import load_dotenv"
   ]
  },
  {
   "cell_type": "code",
   "execution_count": 78,
   "metadata": {},
   "outputs": [
    {
     "data": {
      "text/plain": [
       "True"
      ]
     },
     "execution_count": 78,
     "metadata": {},
     "output_type": "execute_result"
    }
   ],
   "source": [
    "load_dotenv()"
   ]
  },
  {
   "cell_type": "code",
   "execution_count": 79,
   "metadata": {},
   "outputs": [],
   "source": [
    "CLIENT_ID = os.getenv('CLIENT_ID')\n",
    "CLIENT_SECRET = os.getenv('CLIENT_SECRET')"
   ]
  },
  {
   "cell_type": "code",
   "execution_count": 80,
   "metadata": {},
   "outputs": [],
   "source": [
    "def get_access_token():\n",
    "    credentials = f'{CLIENT_ID}:{CLIENT_SECRET}'\n",
    "    credentials_b64 = base64.b64encode(credentials.encode()).decode()\n",
    "\n",
    "    token_url = 'https://accounts.spotify.com/api/token'\n",
    "    headers = {\n",
    "        'Authorization': f'Basic {credentials_b64}'    \n",
    "    }\n",
    "    data = {\n",
    "        'grant_type': 'client_credentials'\n",
    "    }\n",
    "\n",
    "    response = requests.post(token_url, headers = headers, data = data)\n",
    "    if response.status_code == 200:\n",
    "        return response.json()['access_token']\n",
    "    else:\n",
    "        print(f'Error: {response.status_code}')\n",
    "        return None"
   ]
  },
  {
   "cell_type": "code",
   "execution_count": 81,
   "metadata": {},
   "outputs": [],
   "source": [
    "SPOTIFY_API_URL = 'https://api.spotify.com/v1'\n",
    "ACCESS_TOKEN = get_access_token()"
   ]
  },
  {
   "cell_type": "code",
   "execution_count": 88,
   "metadata": {},
   "outputs": [],
   "source": [
    "def get_artist_genre(artist_name):\n",
    "    headers = {\n",
    "        'Authorization': f'Bearer {ACCESS_TOKEN}'\n",
    "    }\n",
    "    params = {\n",
    "        'q': artist_name,\n",
    "        'type': 'artist',\n",
    "        'limit': 1\n",
    "    }\n",
    "    response = requests.get(f'{SPOTIFY_API_URL}/search', headers = headers, params = params)\n",
    "\n",
    "    if response.status_code == 200:\n",
    "        data = response.json()\n",
    "        if data['artists']['items']:\n",
    "            return data['artists']['items'][0]['genres']\n",
    "    return []\n",
    "\n"
   ]
  },
  {
   "cell_type": "code",
   "execution_count": null,
   "metadata": {},
   "outputs": [
    {
     "data": {
      "text/plain": [
       "[]"
      ]
     },
     "execution_count": 84,
     "metadata": {},
     "output_type": "execute_result"
    }
   ],
   "source": []
  },
  {
   "cell_type": "code",
   "execution_count": null,
   "metadata": {},
   "outputs": [],
   "source": []
  }
 ],
 "metadata": {
  "kernelspec": {
   "display_name": "Python 3",
   "language": "python",
   "name": "python3"
  },
  "language_info": {
   "codemirror_mode": {
    "name": "ipython",
    "version": 3
   },
   "file_extension": ".py",
   "mimetype": "text/x-python",
   "name": "python",
   "nbconvert_exporter": "python",
   "pygments_lexer": "ipython3",
   "version": "3.12.6"
  }
 },
 "nbformat": 4,
 "nbformat_minor": 2
}
